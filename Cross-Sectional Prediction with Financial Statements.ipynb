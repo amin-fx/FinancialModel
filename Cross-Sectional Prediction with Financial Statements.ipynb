{
 "cells": [
  {
   "cell_type": "code",
   "execution_count": null,
   "metadata": {
    "collapsed": true,
    "pycharm": {
     "name": "#%%\n"
    }
   },
   "outputs": [],
   "source": [
    "import pandas as pd\n",
    "import numpy as np\n",
    "import yfinance as yf\n",
    "\n",
    "# Download the list of S&P500 stocks from Wikipedia\n",
    "sp500_url = \"https://en.wikipedia.org/wiki/List_of_S%26P_500_companies\"\n",
    "sp500_df = pd.read_html(sp500_url)[0]\n",
    "sp500_symbols = sp500_df[\"Symbol\"].tolist()\n",
    "\n",
    "# Download daily historical stock prices for S&P500 stocks\n",
    "start_date = \"2010-01-01\"\n",
    "end_date = \"2022-12-31\""
   ]
  },
  {
   "cell_type": "code",
   "execution_count": null,
   "outputs": [],
   "source": [
    "for symbol in sp500_symbols:\n",
    "    stock_data = yf.download(symbol, start=start_date, end=end_date)\n",
    "    stock_data.to_csv(f\"{symbol}.csv\")\n"
   ],
   "metadata": {
    "collapsed": false,
    "pycharm": {
     "name": "#%%\n"
    }
   }
  },
  {
   "cell_type": "code",
   "execution_count": null,
   "outputs": [],
   "source": [
    "# Keep the last observation for each stock/month\n",
    "stock_data_monthly = {}\n",
    "\n",
    "for symbol in sp500_symbols:\n",
    "    stock_data = pd.read_csv(f\"{symbol}.csv\")\n",
    "    stock_data['Date'] = pd.to_datetime(stock_data['Date'])\n",
    "    stock_data = stock_data.set_index('Date')\n",
    "    stock_data_monthly[symbol] = stock_data.resample(\"M\").last()"
   ],
   "metadata": {
    "collapsed": false,
    "pycharm": {
     "name": "#%%\n"
    }
   }
  },
  {
   "cell_type": "code",
   "execution_count": null,
   "outputs": [],
   "source": [
    "# Calculate monthly returns and forward returns\n",
    "for symbol, data in stock_data_monthly.items():\n",
    "    data[\"pct_change\"] = data[\"Close\"].pct_change()\n",
    "    data[\"forward_return\"] = data[\"pct_change\"].shift(-1)"
   ],
   "metadata": {
    "collapsed": false,
    "pycharm": {
     "name": "#%%\n"
    }
   }
  },
  {
   "cell_type": "code",
   "execution_count": null,
   "outputs": [],
   "source": [
    "# Restrict the observations to the time period 2010/1 - 2022/12\n",
    "for symbol, data in stock_data_monthly.items():\n",
    "    data = data.loc[data.index >= \"2010-01-01\"]\n",
    "    data = data.loc[data.index <= \"2022-12-31\"]\n"
   ],
   "metadata": {
    "collapsed": false,
    "pycharm": {
     "name": "#%%\n"
    }
   }
  },
  {
   "cell_type": "code",
   "execution_count": null,
   "outputs": [],
   "source": [
    "# Read in the file \"consolidated_quarterly_balance_sheets.csv\"\n",
    "balance_sheet_data = pd.read_csv(\"consolidated_quarterly_balance_sheets.csv\")\n",
    "\n",
    "# Calculate the current ratio for each observation\n",
    "balance_sheet_data[\"current_ratio\"] = balance_sheet_data[\"AssetsCurrent\"] / balance_sheet_data[\"LiabilitiesCurrent\"]\n"
   ],
   "metadata": {
    "collapsed": false,
    "pycharm": {
     "name": "#%%\n"
    }
   }
  },
  {
   "cell_type": "code",
   "execution_count": null,
   "outputs": [],
   "source": [
    "balance_sheet_data = pd.DataFrame(balance_sheet_data)\n",
    "stock_data_monthly = pd.Series(stock_data_monthly, index=[0])\n",
    "stock_data_merged = pd.concat([stock_data_monthly, balance_sheet_data], axis=1)\n",
    "# print(stock_data_merged.columns)"
   ],
   "metadata": {
    "collapsed": false,
    "pycharm": {
     "name": "#%%\n"
    }
   }
  },
  {
   "cell_type": "code",
   "execution_count": null,
   "outputs": [],
   "source": [
    "# Fill in the missing observations of the current ratio with its last known value for the same firm\n",
    "stock_data_merged[\"current_ratio\"] = stock_data_merged[\"current_ratio\"].fillna(method=\"ffill\")"
   ],
   "metadata": {
    "collapsed": false,
    "pycharm": {
     "name": "#%%\n"
    }
   }
  },
  {
   "cell_type": "code",
   "execution_count": null,
   "outputs": [],
   "source": [
    "# Every month, sort the stocks into five bins based on their current ratios. Form an equally-weighted portfolio for each bin\n",
    "stock_data_monthly = pd.DataFrame(stock_data)\n",
    "\n",
    "# j = 0\n",
    "for date in stock_data_merged.index:\n",
    "    stock_data_current = stock_data_merged.loc[date]\n",
    "    # stock_data_current = stock_data_current.sort_values(\"current_ratio\")\n",
    "\n",
    "    portfolio_bins = np.array_split(stock_data_current, 5)\n",
    "    # print(portfolio_bins)\n",
    "\n",
    "    # print(list(portfolio_bins[0].values)[6])\n",
    "    # print(portfolio_bins[0])\n",
    "    for i in range(5):\n",
    "        portfolio_bin = portfolio_bins[i]\n",
    "        portfolio_bin[\"weight\"] = 1 / len(portfolio_bin)\n",
    "        portfolio_bin[\"return\"] =list(portfolio_bins[0].values)[6].mean()\n",
    "\n",
    "    # j += 1\n",
    "    # print(j)"
   ],
   "metadata": {
    "collapsed": false,
    "pycharm": {
     "name": "#%%\n"
    }
   }
  },
  {
   "cell_type": "code",
   "execution_count": null,
   "outputs": [],
   "source": [
    "# Calculate summary statistics of returns for each portfolio\n",
    "print(stock_data_merged.keys())\n",
    "\n",
    "portfolio_returns_short = stock_data_merged.groupby(\"quarter\").mean()\n",
    "\n",
    "portfolio_returns_long = stock_data_merged.groupby(\"year\").mean()\n",
    "\n",
    "if portfolio_returns_long.describe().mean()[\"Assets\"] > portfolio_returns_short.describe().mean()[\"Assets\"]:\n",
    "    print(\"long-short portfolio yields positive returns on average\")\n",
    "\n",
    "else:\n",
    "    print(\"long-short portfolio yields negative returns on average\")\n"
   ],
   "metadata": {
    "collapsed": false,
    "pycharm": {
     "name": "#%%\n"
    }
   }
  }
 ],
 "metadata": {
  "kernelspec": {
   "display_name": "Python 3",
   "language": "python",
   "name": "python3"
  },
  "language_info": {
   "codemirror_mode": {
    "name": "ipython",
    "version": 2
   },
   "file_extension": ".py",
   "mimetype": "text/x-python",
   "name": "python",
   "nbconvert_exporter": "python",
   "pygments_lexer": "ipython2",
   "version": "2.7.6"
  }
 },
 "nbformat": 4,
 "nbformat_minor": 0
}