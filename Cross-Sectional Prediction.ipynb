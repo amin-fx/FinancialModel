{
 "cells": [
  {
   "cell_type": "code",
   "execution_count": 1,
   "outputs": [],
   "source": [
    "import pandas as pd\n",
    "import numpy as np\n",
    "import statsmodels.api as sm\n",
    "import scipy as sci\n",
    "\n",
    "# Download the list of S&P500 stocks\n",
    "sp500_url = \"https://en.wikipedia.org/wiki/List_of_S%26P_500_companies\"\n",
    "sp500_data = pd.read_html(sp500_url)[0]\n",
    "sp500_symbols = sp500_data['Symbol'].tolist()"
   ],
   "metadata": {
    "collapsed": false,
    "pycharm": {
     "name": "#%%\n"
    }
   }
  },
  {
   "cell_type": "code",
   "execution_count": 2,
   "outputs": [],
   "source": [
    "# Download daily historical stock prices for S&P500 stocks\n",
    "# Replace 'YOUR_DATA_DIRECTORY' with the actual location of your data directory\n",
    "data_directory = r'data'\n",
    "\n",
    "for symbol in sp500_symbols:\n",
    "    stock_data = pd.read_csv(f'{data_directory}.csv', index_col='Date', parse_dates=True)\n",
    "\n",
    "    # Calculate daily returns\n",
    "    stock_data['Return'] = stock_data['Close'].pct_change()\n",
    "\n",
    "    # Calculate forward returns\n",
    "    stock_data['Forward Return'] = stock_data['Close'].shift(-1) / stock_data['Close'] - 1\n",
    "\n",
    "    # Calculate past week return\n",
    "    stock_data['Past Week Return'] = stock_data['Return'].rolling(window=5).mean()"
   ],
   "metadata": {
    "collapsed": false,
    "pycharm": {
     "name": "#%%\n"
    }
   }
  },
  {
   "cell_type": "code",
   "execution_count": 3,
   "outputs": [
    {
     "name": "stderr",
     "output_type": "stream",
     "text": [
      "C:\\Users\\a.omidzade\\AppData\\Local\\Temp\\ipykernel_9748\\3512080053.py:12: SettingWithCopyWarning: \n",
      "A value is trying to be set on a copy of a slice from a DataFrame.\n",
      "Try using .loc[row_indexer,col_indexer] = value instead\n",
      "\n",
      "See the caveats in the documentation: https://pandas.pydata.org/pandas-docs/stable/user_guide/indexing.html#returning-a-view-versus-a-copy\n",
      "  portfolio_data['Portfolio Weight'] = 1 / portfolio_data.shape[0]\n",
      "C:\\Users\\a.omidzade\\AppData\\Local\\Temp\\ipykernel_9748\\3512080053.py:12: SettingWithCopyWarning: \n",
      "A value is trying to be set on a copy of a slice from a DataFrame.\n",
      "Try using .loc[row_indexer,col_indexer] = value instead\n",
      "\n",
      "See the caveats in the documentation: https://pandas.pydata.org/pandas-docs/stable/user_guide/indexing.html#returning-a-view-versus-a-copy\n",
      "  portfolio_data['Portfolio Weight'] = 1 / portfolio_data.shape[0]\n",
      "C:\\Users\\a.omidzade\\AppData\\Local\\Temp\\ipykernel_9748\\3512080053.py:12: SettingWithCopyWarning: \n",
      "A value is trying to be set on a copy of a slice from a DataFrame.\n",
      "Try using .loc[row_indexer,col_indexer] = value instead\n",
      "\n",
      "See the caveats in the documentation: https://pandas.pydata.org/pandas-docs/stable/user_guide/indexing.html#returning-a-view-versus-a-copy\n",
      "  portfolio_data['Portfolio Weight'] = 1 / portfolio_data.shape[0]\n",
      "C:\\Users\\a.omidzade\\AppData\\Local\\Temp\\ipykernel_9748\\3512080053.py:12: SettingWithCopyWarning: \n",
      "A value is trying to be set on a copy of a slice from a DataFrame.\n",
      "Try using .loc[row_indexer,col_indexer] = value instead\n",
      "\n",
      "See the caveats in the documentation: https://pandas.pydata.org/pandas-docs/stable/user_guide/indexing.html#returning-a-view-versus-a-copy\n",
      "  portfolio_data['Portfolio Weight'] = 1 / portfolio_data.shape[0]\n"
     ]
    }
   ],
   "source": [
    "# Sort stocks into 10 bins based on prior week returns\n",
    "bins = np.linspace(-0.1, 0.2, 11)\n",
    "stock_data['Bin'] = pd.cut(stock_data['Past Week Return'], bins=bins, labels=range(10))\n",
    "\n",
    "# Form daily-rebalanced, equally-weighted portfolios for each bin\n",
    "portfolio_returns = {}\n",
    "\n",
    "for bin_num in range(10):\n",
    "    portfolio_data = stock_data[stock_data['Bin'] == bin_num]\n",
    "\n",
    "    try:\n",
    "        portfolio_data['Portfolio Weight'] = 1 / portfolio_data.shape[0]\n",
    "    except ZeroDivisionError:\n",
    "        portfolio_data['Portfolio Weight'] = 0\n",
    "\n",
    "    # Use `agg()` to combine portfolio weight and mean return\n",
    "    portfolio_return_series = portfolio_data.groupby('Date')['Portfolio Weight'].agg(['mean', lambda x: x * portfolio_data['Return'].mean()])\n",
    "    portfolio_return_series.columns = ['Portfolio Weight', 'Portfolio Return']\n",
    "\n",
    "    portfolio_returns[bin_num] = portfolio_return_series\n"
   ],
   "metadata": {
    "collapsed": false,
    "pycharm": {
     "name": "#%%\n"
    }
   }
  },
  {
   "cell_type": "code",
   "execution_count": 4,
   "outputs": [
    {
     "name": "stdout",
     "output_type": "stream",
     "text": [
      "The long-short portfolio does not have a statistically significant positive average return.\n"
     ]
    },
    {
     "name": "stderr",
     "output_type": "stream",
     "text": [
      "C:\\Users\\a.omidzade\\AppData\\Local\\Temp\\ipykernel_9748\\4202515839.py:5: FutureWarning: The frame.append method is deprecated and will be removed from pandas in a future version. Use pandas.concat instead.\n",
      "  portfolio_averages = portfolio_averages.append({'Bin': bin_num, 'Average Return': portfolio_avg}, ignore_index=True)\n",
      "C:\\Users\\a.omidzade\\AppData\\Local\\Temp\\ipykernel_9748\\4202515839.py:5: FutureWarning: The frame.append method is deprecated and will be removed from pandas in a future version. Use pandas.concat instead.\n",
      "  portfolio_averages = portfolio_averages.append({'Bin': bin_num, 'Average Return': portfolio_avg}, ignore_index=True)\n",
      "C:\\Users\\a.omidzade\\AppData\\Local\\Temp\\ipykernel_9748\\4202515839.py:5: FutureWarning: The frame.append method is deprecated and will be removed from pandas in a future version. Use pandas.concat instead.\n",
      "  portfolio_averages = portfolio_averages.append({'Bin': bin_num, 'Average Return': portfolio_avg}, ignore_index=True)\n",
      "C:\\Users\\a.omidzade\\AppData\\Local\\Temp\\ipykernel_9748\\4202515839.py:5: FutureWarning: The frame.append method is deprecated and will be removed from pandas in a future version. Use pandas.concat instead.\n",
      "  portfolio_averages = portfolio_averages.append({'Bin': bin_num, 'Average Return': portfolio_avg}, ignore_index=True)\n",
      "C:\\Users\\a.omidzade\\AppData\\Local\\Temp\\ipykernel_9748\\4202515839.py:5: FutureWarning: The frame.append method is deprecated and will be removed from pandas in a future version. Use pandas.concat instead.\n",
      "  portfolio_averages = portfolio_averages.append({'Bin': bin_num, 'Average Return': portfolio_avg}, ignore_index=True)\n",
      "C:\\Users\\a.omidzade\\AppData\\Local\\Temp\\ipykernel_9748\\4202515839.py:5: FutureWarning: The frame.append method is deprecated and will be removed from pandas in a future version. Use pandas.concat instead.\n",
      "  portfolio_averages = portfolio_averages.append({'Bin': bin_num, 'Average Return': portfolio_avg}, ignore_index=True)\n",
      "C:\\Users\\a.omidzade\\AppData\\Local\\Temp\\ipykernel_9748\\4202515839.py:5: FutureWarning: The frame.append method is deprecated and will be removed from pandas in a future version. Use pandas.concat instead.\n",
      "  portfolio_averages = portfolio_averages.append({'Bin': bin_num, 'Average Return': portfolio_avg}, ignore_index=True)\n",
      "C:\\Users\\a.omidzade\\AppData\\Local\\Temp\\ipykernel_9748\\4202515839.py:5: FutureWarning: The frame.append method is deprecated and will be removed from pandas in a future version. Use pandas.concat instead.\n",
      "  portfolio_averages = portfolio_averages.append({'Bin': bin_num, 'Average Return': portfolio_avg}, ignore_index=True)\n",
      "C:\\Users\\a.omidzade\\AppData\\Local\\Temp\\ipykernel_9748\\4202515839.py:5: FutureWarning: The frame.append method is deprecated and will be removed from pandas in a future version. Use pandas.concat instead.\n",
      "  portfolio_averages = portfolio_averages.append({'Bin': bin_num, 'Average Return': portfolio_avg}, ignore_index=True)\n",
      "C:\\Users\\a.omidzade\\AppData\\Local\\Temp\\ipykernel_9748\\4202515839.py:5: FutureWarning: The frame.append method is deprecated and will be removed from pandas in a future version. Use pandas.concat instead.\n",
      "  portfolio_averages = portfolio_averages.append({'Bin': bin_num, 'Average Return': portfolio_avg}, ignore_index=True)\n",
      "C:\\Users\\a.omidzade\\Pycharm\\venv\\Lib\\site-packages\\numpy\\core\\fromnumeric.py:3464: RuntimeWarning: Mean of empty slice.\n",
      "  return _methods._mean(a, axis=axis, dtype=dtype,\n",
      "C:\\Users\\a.omidzade\\Pycharm\\venv\\Lib\\site-packages\\numpy\\core\\_methods.py:192: RuntimeWarning: invalid value encountered in scalar divide\n",
      "  ret = ret.dtype.type(ret / rcount)\n"
     ]
    }
   ],
   "source": [
    "portfolio_averages = pd.DataFrame(columns=['Bin', 'Average Return'])\n",
    "\n",
    "for bin_num in range(10):\n",
    "    portfolio_avg = portfolio_returns[bin_num]['Portfolio Return'].mean()\n",
    "    portfolio_averages = portfolio_averages.append({'Bin': bin_num, 'Average Return': portfolio_avg}, ignore_index=True)\n",
    "\n",
    "# Form a long-short portfolio of bins 1 and 10\n",
    "long_short_portfolio = portfolio_returns[0]['Portfolio Return'] - portfolio_returns[9]['Portfolio Return']\n",
    "\n",
    "# Test if the long-short portfolio has positive average returns\n",
    "t_stat, p_value = sci.stats.ttest_1samp(long_short_portfolio, 0.05)\n",
    "\n",
    "if p_value < 0.05:\n",
    "    print(\"The long-short portfolio has a statistically significant positive average return.\")\n",
    "else:\n",
    "    print(\"The long-short portfolio does not have a statistically significant positive average return.\")"
   ],
   "metadata": {
    "collapsed": false,
    "pycharm": {
     "name": "#%%\n"
    }
   }
  }
 ],
 "metadata": {
  "kernelspec": {
   "display_name": "Python 3",
   "language": "python",
   "name": "python3"
  },
  "language_info": {
   "codemirror_mode": {
    "name": "ipython",
    "version": 2
   },
   "file_extension": ".py",
   "mimetype": "text/x-python",
   "name": "python",
   "nbconvert_exporter": "python",
   "pygments_lexer": "ipython2",
   "version": "2.7.6"
  }
 },
 "nbformat": 4,
 "nbformat_minor": 0
}