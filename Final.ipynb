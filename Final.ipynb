{
 "cells": [
  {
   "cell_type": "code",
   "execution_count": null,
   "outputs": [],
   "source": [
    "# Calling important modules:\n",
    "\n",
    "import pandas as pd\n",
    "import numpy as np\n",
    "import matplotlib.pyplot as plt\n",
    "import requests\n",
    "import pandas_datareader as pdr\n",
    "import yfinance as yf\n",
    "import datetime\n",
    "import bs4 as bs\n"
   ],
   "metadata": {
    "collapsed": false,
    "pycharm": {
     "name": "#%%\n"
    }
   }
  },
  {
   "cell_type": "code",
   "execution_count": null,
   "outputs": [],
   "source": [
    "# Download tickers\n",
    "resp = requests.get('http://en.wikipedia.org/wiki/List_of_S%26P_500_companies')\n",
    "soup = bs.BeautifulSoup(resp.text, 'lxml')\n",
    "table = soup.find('table', {'class': 'wikitable sortable'})\n",
    "\n",
    "\n",
    "tickers = []\n",
    "\n",
    "for row in table.findAll('tr')[1:]:\n",
    "    ticker = row.findAll('td')[0].text\n",
    "    tickers.append(ticker)\n",
    "\n",
    "tickers = [s.replace('\\n', '') for s in tickers]\n",
    "\n"
   ],
   "metadata": {
    "collapsed": false,
    "pycharm": {
     "name": "#%%\n"
    }
   }
  },
  {
   "cell_type": "code",
   "execution_count": null,
   "outputs": [],
   "source": [
    "# Define date and download\n",
    "\n",
    "start = datetime.datetime(2020, 1, 1)\n",
    "end = datetime.datetime(2023, 11, 30)\n",
    "data = yf.download(tickers, start=start, end=end)"
   ],
   "metadata": {
    "collapsed": false,
    "pycharm": {
     "name": "#%%\n"
    }
   }
  },
  {
   "cell_type": "code",
   "execution_count": null,
   "outputs": [],
   "source": [
    "# Stacking data\n",
    "\n",
    "df = data.stack().reset_index().rename(index=str, columns={\"level_1\": \"Symbol\"}).sort_values(['Symbol','Date'])\n",
    "df.set_index('Date', inplace=True)\n",
    "df.head()"
   ],
   "metadata": {
    "collapsed": false,
    "pycharm": {
     "name": "#%%\n"
    }
   }
  },
  {
   "cell_type": "code",
   "execution_count": null,
   "outputs": [],
   "source": [
    "# Calculation of return and f return monthly\n",
    "\n",
    "df['ret'] = df['Adj Close'].pct_change()\n",
    "df['f_ret'] = df['ret'].shift(-1)\n",
    "df = df.groupby(\"Symbol\").resample(\"M\").last()\n",
    "df.head()"
   ],
   "metadata": {
    "collapsed": false,
    "pycharm": {
     "name": "#%%\n"
    }
   }
  },
  {
   "cell_type": "code",
   "execution_count": null,
   "outputs": [],
   "source": [
    "# Calculation market\n",
    "\n",
    "mkt = yf.download(tickers='^GSPC', start=\"2020-01-01\", end='2023-11-30')\n",
    "mkt = mkt.resample('M').last()\n",
    "mkt['mkt'] = mkt['Adj Close'].pct_change()\n",
    "mkt['f_mkt'] = mkt['mkt'].shift(-1)\n",
    "mkt = mkt.reset_index()[['Date', 'mkt', 'f_mkt']]\n",
    "mkt.head()"
   ],
   "metadata": {
    "collapsed": false,
    "pycharm": {
     "name": "#%%\n"
    }
   }
  },
  {
   "cell_type": "markdown",
   "source": [
    "Ris-free return of Market"
   ],
   "metadata": {
    "collapsed": false,
    "pycharm": {
     "name": "#%% md\n"
    }
   }
  },
  {
   "cell_type": "code",
   "execution_count": null,
   "outputs": [],
   "source": [
    "# Calculation of risk-free rate\n",
    "\n",
    "rf = pdr.DataReader('DGS3MO', 'fred', start=\"1900-1-1\", end=\"2023-12-31\").resample('M').last()\n",
    "rf['DGS3MO'] = rf['DGS3MO']/1200\n",
    "rf['rf'] = rf['DGS3MO'].shift()\n",
    "rf = rf.reset_index()[['DATE', 'DGS3MO', 'rf']].rename(columns={'DATE':'Date', 'DGS3MO':'f_rf'})\n",
    "rf.head()"
   ],
   "metadata": {
    "collapsed": false,
    "pycharm": {
     "name": "#%%\n"
    }
   }
  },
  {
   "cell_type": "code",
   "execution_count": null,
   "outputs": [],
   "source": [
    "# Merging data\n",
    "\n",
    "df = pd.merge(df, mkt, on='Date') # Inner merge because missing values will drop from regressions\n",
    "df = pd.merge(df, rf, on='Date')\n",
    "df = df.sort_values(['Symbol', 'Date'])\n",
    "# col = [\"mkt_y\", \"f_mkt_y\", \"f_rf_y\", \"rf_y\"]\n",
    "# df.drop(col, axis =1)\n",
    "# df[\"mkt_x\"].rename()\n",
    "df.head()"
   ],
   "metadata": {
    "collapsed": false,
    "pycharm": {
     "name": "#%%\n"
    }
   }
  },
  {
   "cell_type": "code",
   "execution_count": null,
   "outputs": [],
   "source": [
    "# define excess returns\n",
    "df['ret-rf'] = df['ret'] - df['rf']\n",
    "df['mkt-rf'] = df['mkt'] - df['rf']\n",
    "df.head()"
   ],
   "metadata": {
    "collapsed": false,
    "pycharm": {
     "name": "#%%\n"
    }
   }
  },
  {
   "cell_type": "code",
   "execution_count": null,
   "outputs": [],
   "source": [
    "df.describe().to_excel(\"df Statistics.xlsx\")"
   ],
   "metadata": {
    "collapsed": false,
    "pycharm": {
     "name": "#%%\n"
    }
   }
  },
  {
   "cell_type": "code",
   "execution_count": null,
   "outputs": [],
   "source": [
    "# Covariance and expected return calculation\n",
    "\n",
    "print(len((df.groupby(\"Symbol\"))))\n",
    "er = []\n",
    "var = []\n",
    "cov = np.array([df.groupby(\"Symbol\")[[\"ret\"]].cov()[\"ret\"]])\n",
    "\n",
    "\n",
    "for i in range(0,len(df.groupby(\"Symbol\"))):\n",
    "\n",
    "    er.append(df.groupby(\"Symbol\")[\"ret\"].mean()[i])\n",
    "    var.append(df.groupby(\"Symbol\")[\"ret\"].var()[i])\n",
    "\n",
    "\n",
    "# print(er)\n",
    "#################\n",
    "covariance = df.groupby(\"Symbol\")[[\"ret\"]].cov()[\"ret\"]\n",
    "for i in range(0,500):\n",
    "    # for j in range(0,500):\n",
    "    cov =  np.insert(cov, i, covariance, axis=0)\n",
    "\n",
    "for i in range(0,501):\n",
    "    cov[i,i] = var[i]\n",
    "\n"
   ],
   "metadata": {
    "collapsed": false,
    "pycharm": {
     "name": "#%%\n"
    }
   }
  },
  {
   "cell_type": "code",
   "execution_count": null,
   "outputs": [],
   "source": [
    "# For example we choose 2 symbols:\n",
    "\n",
    "# Define expected returns and covariance matrix\n",
    "# R_f = df.groupby(\"Symbol\")[\"ret-rf\"].mean()[0]\n",
    "R_f = 0.03\n",
    "E_R_A = er[0]\n",
    "E_R_B = er[1]\n",
    "R = np.array([E_R_A, E_R_B])\n",
    "\n",
    "sigma2_A = var[0]\n",
    "sigma2_B = var[1]\n",
    "sigma_A_B = cov[0][1]\n",
    "Sigma = np.array([[sigma2_A, sigma_A_B], [sigma_A_B, sigma2_B]])\n",
    "\n",
    "# Calculate expected returns and variances for different portfolio weights allowing for short selling\n",
    "weights_A = 0.5  # Allowing weights to be negative and exceed 1\n",
    "weights_B = 1 - weights_A\n",
    "\n",
    "E_R_p = weights_A * E_R_A + weights_B * E_R_B\n",
    "std_p = np.sqrt(weights_A**2 * sigma2_A + weights_B**2 * sigma2_B + 2 * weights_A * weights_B * sigma_A_B)\n"
   ],
   "metadata": {
    "collapsed": false,
    "pycharm": {
     "name": "#%%\n"
    }
   }
  },
  {
   "cell_type": "code",
   "execution_count": null,
   "outputs": [],
   "source": [
    "# Efficiency of 2 assets\n",
    "E_R_p = weights_A * E_R_A + weights_B * E_R_B\n",
    "std_p = np.sqrt(weights_A**2 * sigma2_A + weights_B**2 * sigma2_B + 2 * weights_A * weights_B * sigma_A_B)\n",
    "\n",
    "# Plotting the expected returns against the variances with short selling\n",
    "plt.figure(figsize=(10, 6))\n",
    "plt.plot(std_p, E_R_p, c='blue', linewidth=2, label='Efficient Frontier with Only Risky Assets')\n",
    "plt.title('Efficient Frontier with A Risk-Free Asset')\n",
    "plt.xlabel('Portfolio Standard Deviation')\n",
    "plt.ylabel('Portfolio Expected Return')\n",
    "\n",
    "# Find the tangency portfolio\n",
    "w_t = np.dot(np.linalg.inv(Sigma), R - R_f)\n",
    "w_t = w_t/np.sum(w_t)\n",
    "\n",
    "# Calculate the expected return and standard deviation of the portfolio\n",
    "E_R_t = np.sum(w_t*R)\n",
    "std_t = np.sqrt(np.dot(w_t.T, np.dot(Sigma, w_t)))\n",
    "\n",
    "# Plot the portfolio\n",
    "plt.scatter(std_t, E_R_t, c='red', marker='*', s=200, label='The Tangency Portfolio')\n",
    "\n",
    "# Plot all the portfolios with the risk-free asset\n",
    "w_f = np.linspace(-3, 3, 1000)\n",
    "E_R_p = w_f * R_f + (1-w_f) * E_R_t\n",
    "std_p = (1-w_f) * std_t\n",
    "plt.plot(std_p, E_R_p, c='red', linewidth=2, label='Efficient Frontier with Risk-Free Asset')\n",
    "\n",
    "# Plot the risk-free asset\n",
    "plt.scatter(0, R_f, c='orange', marker='^')\n",
    "\n",
    "\n",
    "# plt.xlim([0, 0.8])\n",
    "# plt.ylim([0, 0.20])\n",
    "plt.legend(loc='upper left')\n",
    "plt.grid(True)\n",
    "plt.show()"
   ],
   "metadata": {
    "collapsed": false,
    "pycharm": {
     "name": "#%%\n"
    }
   }
  },
  {
   "cell_type": "code",
   "execution_count": null,
   "outputs": [],
   "source": [
    "# Efficiency of 2 assets with and without selling\n",
    "\n",
    "weights_A = np.linspace(-1, 2, 300)  # Allowing weights to be negative and exceed 1\n",
    "weights_B = 1 - weights_A\n",
    "\n",
    "E_R_p = weights_A * E_R_A + weights_B * E_R_B\n",
    "std_p = np.sqrt(weights_A**2 * sigma2_A + weights_B**2 * sigma2_B + 2 * weights_A * weights_B * sigma_A_B)\n",
    "\n",
    "# Plotting the expected returns against the variances with short selling\n",
    "plt.figure(figsize=(10, 6))\n",
    "plt.scatter(std_p, E_R_p, c='blue', marker='o', s=5, label='Portfolios with Short Selling')\n",
    "plt.scatter(np.sqrt(sigma2_A), E_R_A, c='red', marker='*', s=200, label='100% Asset A')\n",
    "plt.scatter(np.sqrt(sigma2_B), E_R_B, c='yellow', marker='*', s=200, label='100% Asset B')\n",
    "plt.title('Efficient Frontier with and without Short Selling')\n",
    "plt.xlabel('Portfolio Standard Deviation')\n",
    "plt.ylabel('Portfolio Expected Return')\n",
    "plt.legend(loc='upper left')\n",
    "plt.grid(True)\n",
    "plt.show()"
   ],
   "metadata": {
    "collapsed": false,
    "pycharm": {
     "name": "#%%\n"
    }
   }
  },
  {
   "cell_type": "code",
   "execution_count": null,
   "outputs": [],
   "source": [
    "# Plotting the expected returns against the variances with highlighted portfolios\n",
    "plt.figure(figsize=(10, 6))\n",
    "plt.scatter(std_p, E_R_p, c='blue', marker='o', s=5, label='Portfolios')\n",
    "plt.scatter(np.sqrt(sigma2_A), E_R_A, c='red', marker='*', s=200, label='100% Asset A')\n",
    "plt.scatter(np.sqrt(sigma2_B), E_R_B, c='orange', marker='*', s=200, label='100% Asset B')\n",
    "plt.title('Efficient Frontier for Two-Asset Portfolio')\n",
    "plt.xlabel('Portfolio Standard Deviation')\n",
    "plt.ylabel('Portfolio Expected Return')\n",
    "plt.legend(loc='upper left')\n",
    "plt.grid(True)\n",
    "plt.show()"
   ],
   "metadata": {
    "collapsed": false,
    "pycharm": {
     "name": "#%%\n"
    }
   }
  },
  {
   "cell_type": "code",
   "execution_count": null,
   "outputs": [],
   "source": [
    "E_R_A = er[0]\n",
    "E_R_B = er[1]\n",
    "E_R_C = er[2]\n",
    "R = np.array([E_R_A, E_R_B, E_R_C])\n",
    "\n",
    "sigma2_A = var[0]\n",
    "sigma2_B = var[1]\n",
    "sigma2_C = var[2]\n",
    "sigma_A_B = cov[0][1]\n",
    "sigma_A_C = cov[0][2]\n",
    "sigma_B_C = cov[2][3]\n",
    "Sigma = np.array([[sigma2_A, sigma_A_B, sigma_A_C], [sigma_A_B, sigma2_B, sigma_B_C], [sigma_A_C, sigma_B_C, sigma2_C]])\n",
    "\n",
    "# Generate N x N portfolios\n",
    "N = 100\n",
    "num_portfolios = N*N\n",
    "E_R_p = np.zeros((N, N))\n",
    "std_p = np.zeros((N, N))\n",
    "\n",
    "w = np.linspace(-4, 4, N)\n",
    "for i, w_A in enumerate(w):\n",
    "    for j, w_B in enumerate(w):\n",
    "        w_C = 1.0 - w_A - w_B\n",
    "        weights = np.array([w_A, w_B, w_C])\n",
    "        portfolio_return = np.sum(weights * R)\n",
    "        portfolio_stddev = np.sqrt(np.dot(weights.T, np.dot(Sigma, weights)))\n",
    "        E_R_p[i,j] = portfolio_return\n",
    "        std_p[i,j] = portfolio_stddev\n",
    "\n",
    "# Plot the results\n",
    "plt.figure(figsize=(10, 6))\n",
    "plt.scatter(std_p, E_R_p, c='cyan', s=1, marker='o', label='Random Portfolios')\n",
    "plt.scatter(np.sqrt(sigma2_A), E_R_A, c='red', marker='*', s=100, label='Asset A')\n",
    "plt.scatter(np.sqrt(sigma2_B), E_R_B, c='green', marker='*', s=100, label='Asset B')\n",
    "plt.scatter(np.sqrt(sigma2_C), E_R_C, c='yellow', marker='*', s=100, label='Asset C')\n",
    "plt.title('Efficient Frontier with Three Assets')\n",
    "plt.xlabel('Portfolio Standard Deviation')\n",
    "plt.ylabel('Portfolio Expected Return')\n",
    "plt.legend(loc='upper left')\n",
    "# plt.xlim([0,0.9])\n",
    "# plt.ylim([0.02,0.18])\n",
    "\n",
    "plt.grid(True)\n",
    "plt.show()"
   ],
   "metadata": {
    "collapsed": false,
    "pycharm": {
     "name": "#%%\n"
    }
   }
  },
  {
   "cell_type": "code",
   "execution_count": null,
   "outputs": [],
   "source": [
    "def estimate_mu_sigma_rf(df):\n",
    "    assets = df.columns.drop(\"rf\")\n",
    "    mu = df[\"Adj Close\"].mean(axis=0)\n",
    "    Sigma = df[\"Adj Close\"].cov(other=df[\"Adj Close\"])\n",
    "    rf = df['rf'].mean()\n",
    "    return mu, Sigma, rf\n",
    "\n",
    "# The function to calculate the tangency portfolio\n",
    "def find_tangency_is(mu, Sigma, rf):\n",
    "    w_t = np.dot(np.linalg.inv(Sigma), mu - rf)\n",
    "    w_t = w_t/np.sum(w_t)\n",
    "    return w_t\n",
    "\n",
    "estimate_mu_sigma_rf(df)"
   ],
   "metadata": {
    "collapsed": false,
    "pycharm": {
     "name": "#%%\n"
    }
   }
  },
  {
   "cell_type": "code",
   "execution_count": null,
   "outputs": [],
   "source": [
    "def find_tangency_oos(df, window=60, method=\"expanding\"):\n",
    "\n",
    "    # Get the list of assets\n",
    "    assets = df.columns.drop(\"rf\")\n",
    "\n",
    "    # Initiate the time-series of the tangency portfolio\n",
    "    weights = pd.DataFrame(index=df.index, columns=assets, data=np.nan)\n",
    "    returns = pd.Series(index=df.index, data=np.nan)\n",
    "\n",
    "    for i in range(window, len(df)):\n",
    "\n",
    "        # Select the estimation period\n",
    "        if method == \"expanding\":\n",
    "            df_est = df.iloc[:i-1]\n",
    "        elif method == \"rolling\":\n",
    "            df_est = df.iloc[i-window:i-1]\n",
    "\n",
    "        # Find the weights of the tangency portfolio\n",
    "        mu, Sigma, _ = estimate_mu_sigma_rf(df_est)\n",
    "        rf = df.iloc[i][\"rf\"]\n",
    "\n",
    "        # Find the tangency portfolio\n",
    "        w_t = find_tangency_is(mu, Sigma, rf)\n",
    "\n",
    "        # Save the weights\n",
    "        weights.iloc[i] = w_t\n",
    "\n",
    "        # Find the return of the tangency portfolio over the next period\n",
    "        returns.iloc[i] = (w_t * df[assets].iloc[i]).sum()\n",
    "\n",
    "    # Calculate the Sharpe ratio of the tangency portfolio\n",
    "    SR = (returns - df[\"rf\"]).mean() / returns.std()\n",
    "\n",
    "    return returns, weights, SR\n",
    "\n",
    "ret_expanding, weights_expanding, SR_expanding = find_tangency_oos(df)\n",
    "ret_rolling, weights_rolling, SR_rolling = find_tangency_oos(df, method=\"rolling\")"
   ],
   "metadata": {
    "collapsed": false,
    "pycharm": {
     "name": "#%%\n"
    }
   }
  },
  {
   "cell_type": "code",
   "execution_count": null,
   "outputs": [],
   "source": [
    "# Number of simulations\n",
    "\n",
    "mu, Sigma, rf = estimate_mu_sigma_rf(df)\n",
    "# mu, Sigma, rf\n",
    "num_portfolios = 10000\n",
    "\n",
    "# Initialize arrays to store portfolio weights, returns, volatilities, and Sharpe ratios\n",
    "portfolio_weights = np.zeros((num_portfolios, len(tickers)))\n",
    "portfolio_returns = np.zeros(num_portfolios)\n",
    "portfolio_stds = np.zeros(num_portfolios)\n",
    "sharpe_ratios = np.zeros(num_portfolios)\n",
    "\n",
    "# Randomly assign weights to assets and normalize\n",
    "portfolio_weights[:, :2] = -5 + 10*np.random.random(size=(num_portfolios,2))\n",
    "portfolio_weights[:, 2] = 1 - np.sum(portfolio_weights[:, :2], axis=1)\n",
    "\n",
    "# Calculate expected portfolio return and volatility\n",
    "for i in range(num_portfolios):\n",
    "    portfolio_returns[i] = np.dot(portfolio_weights[i], mu)\n",
    "    portfolio_stds[i] = np.sqrt(np.dot(portfolio_weights[i].T, np.dot(Sigma, portfolio_weights[i])))\n",
    "\n",
    "# Calculate Sharpe ratio\n",
    "sharpe_ratios = (portfolio_returns - rf) / portfolio_stds\n",
    "\n",
    "# Plot histogram of Sharpe ratios\n",
    "plt.figure(figsize=(10, 6))\n",
    "plt.hist(sharpe_ratios, bins=50, color='blue', alpha=0.7)\n",
    "plt.axvline(SR_t, color='red', linestyle='--', linewidth=3, label='Tangency Portfolio')\n",
    "plt.axvline(SR_ev, color='orange', linestyle=':', linewidth=3, label='Equally-Weighted Portfolio')\n",
    "\n",
    "plt.title('Histogram of Sharpe Ratios of Simulated Portfolios')\n",
    "plt.xlabel('Sharpe Ratio')\n",
    "plt.ylabel('Frequency')\n",
    "plt.legend()\n",
    "plt.grid(True)\n",
    "plt.tight_layout()\n",
    "plt.show()"
   ],
   "metadata": {
    "collapsed": false,
    "pycharm": {
     "name": "#%%\n"
    }
   }
  },
  {
   "cell_type": "code",
   "execution_count": null,
   "outputs": [],
   "source": [
    "# Plot histogram of Sharpe ratios\n",
    "plt.figure(figsize=(10, 6))\n",
    "plt.hist(sharpe_ratios, bins=50, color='blue', alpha=0.7)\n",
    "plt.axvline(SR_ev, color='orange', linestyle=':', linewidth=3, label='Equally-Weighted Portfolio')\n",
    "plt.axvline(SR_expanding, color='brown', linestyle='-.', linewidth=3, label='Expanding Window Tangency Portfolio')\n",
    "plt.axvline(SR_rolling, color='black', linestyle='-', linewidth=3, label='Rolling Window Tangency Portfolio')\n",
    "\n",
    "plt.title('Histogram of Sharpe Ratios of Simulated Portfolios')\n",
    "plt.xlabel('Sharpe Ratio')\n",
    "plt.ylabel('Frequency')\n",
    "plt.legend(loc='upper left')\n",
    "plt.grid(True)\n",
    "plt.tight_layout()\n",
    "plt.show()"
   ],
   "metadata": {
    "collapsed": false,
    "pycharm": {
     "name": "#%%\n"
    }
   }
  },
  {
   "cell_type": "code",
   "execution_count": null,
   "outputs": [],
   "source": [
    "def find_tangency_oos(df, window=60, method=\"expanding\", estimate_Sigma=True):\n",
    "\n",
    "    # Get the list of assets\n",
    "    assets = df.columns.drop(\"rf\")\n",
    "\n",
    "    # Initiate the time-series of the tangency portfolio\n",
    "    weights = pd.DataFrame(index=df.index, columns=assets, data=np.nan)\n",
    "    returns = pd.Series(index=df.index, data=np.nan)\n",
    "\n",
    "    for i in range(window, len(df)):\n",
    "\n",
    "        # Select the estimation period\n",
    "        if method == \"expanding\":\n",
    "            df_est = df.iloc[:i-1]\n",
    "        elif method == \"rolling\":\n",
    "            df_est = df.iloc[i-window:i-1]\n",
    "\n",
    "        # Find the weights of the tangency portfolio\n",
    "        mu, Sigma, _ = estimate_mu_sigma_rf(df_est)\n",
    "        rf = df.iloc[i][\"rf\"]\n",
    "\n",
    "        if not estimate_Sigma:\n",
    "            Sigma = np.eye(len(mu))\n",
    "\n",
    "        # Find the tangency portfolio\n",
    "        w_t = find_tangency_is(mu, Sigma, rf)\n",
    "\n",
    "        # Save the weights\n",
    "        weights.iloc[i] = w_t\n",
    "\n",
    "        # Find the return of the tangency portfolio over the next period\n",
    "        returns.iloc[i] = (w_t * df[assets].iloc[i]).sum()\n",
    "\n",
    "    # Calculate the Sharpe ratio of the tangency portfolio\n",
    "    SR = (returns - df[\"rf\"]).mean() / returns.std()\n",
    "\n",
    "    return returns, weights, SR\n"
   ],
   "metadata": {
    "collapsed": false,
    "pycharm": {
     "name": "#%%\n"
    }
   }
  },
  {
   "cell_type": "code",
   "execution_count": null,
   "outputs": [],
   "source": [
    "SR_rolling\n",
    "# Plot histogram of Sharpe ratios\n",
    "plt.figure(figsize=(10, 6))\n",
    "plt.hist(sharpe_ratios, bins=50, color='blue', alpha=0.7)\n",
    "plt.axvline(SR_ev, color='orange', linestyle=':', linewidth=3, label='Equally-Weighted Portfolio')\n",
    "plt.axvline(SR_expanding, color='brown', linestyle='-.', linewidth=3, label='Expanding Window Tangency Portfolio')\n",
    "plt.axvline(SR_rolling, color='black', linestyle='-', linewidth=3, label='Rolling Window Tangency Portfolio')\n",
    "\n",
    "plt.title('Histogram of Sharpe Ratios of Simulated Portfolios')\n",
    "plt.xlabel('Sharpe Ratio')\n",
    "plt.ylabel('Frequency')\n",
    "plt.legend(loc='upper left')\n",
    "plt.grid(True)\n",
    "plt.tight_layout()\n",
    "plt.show()"
   ],
   "metadata": {
    "collapsed": false,
    "pycharm": {
     "name": "#%%\n"
    }
   }
  },
  {
   "cell_type": "code",
   "execution_count": null,
   "outputs": [],
   "source": [],
   "metadata": {
    "collapsed": false,
    "pycharm": {
     "name": "#%%\n"
    }
   }
  }
 ],
 "metadata": {
  "kernelspec": {
   "display_name": "Python 3",
   "language": "python",
   "name": "python3"
  },
  "language_info": {
   "codemirror_mode": {
    "name": "ipython",
    "version": 2
   },
   "file_extension": ".py",
   "mimetype": "text/x-python",
   "name": "python",
   "nbconvert_exporter": "python",
   "pygments_lexer": "ipython2",
   "version": "2.7.6"
  }
 },
 "nbformat": 4,
 "nbformat_minor": 0
}